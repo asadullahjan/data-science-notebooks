{
 "cells": [
  {
   "cell_type": "markdown",
   "metadata": {},
   "source": [
    "<center>\n",
    "    <img src=\"https://cf-courses-data.s3.us.cloud-object-storage.appdomain.cloud/IBMDeveloperSkillsNetwork-DS0105EN-SkillsNetwork/labs/Module2/images/SN_web_lightmode.png\" width=\"300\" alt=\"cognitiveclass.ai logo\">\n",
    "</center>\n"
   ]
  },
  {
   "cell_type": "markdown",
   "metadata": {},
   "source": [
    "#### Add your code below following the instructions given in the course\n"
   ]
  },
  {
   "cell_type": "markdown",
   "metadata": {},
   "source": [
    "# Data Science Tools and Ecosystem"
   ]
  },
  {
   "cell_type": "markdown",
   "metadata": {},
   "source": [
    "## Introduction\n",
    "\n",
    "This notebook contains exercises to demonstrate basic skills in Markdown and Python"
   ]
  },
  {
   "cell_type": "markdown",
   "metadata": {},
   "source": [
    "### Data Science Languages\n",
    "\n",
    "1. Python\n",
    "2. R\n",
    "3. Julia"
   ]
  },
  {
   "cell_type": "markdown",
   "metadata": {},
   "source": [
    "### Data Science Libraries\n",
    "\n",
    "1. Pandas\n",
    "2. Numpy\n",
    "3. Matplotlib"
   ]
  },
  {
   "cell_type": "markdown",
   "metadata": {},
   "source": [
    "### Data Science Tools\n",
    "\n",
    "| Tool Name        | Description                             |\n",
    "|------------------|-----------------------------------------|\n",
    "| Jupyter Notebook | Web-based interactive computing platform|\n",
    "| RStudio          | IDE for R programming and data analysis |\n",
    "| VSCode           | Lightweight code editor with extensions |"
   ]
  },
  {
   "cell_type": "markdown",
   "metadata": {},
   "source": [
    "### Arithmetic Expressions\n",
    "\n",
    "In the code cells below, we will demonstrate examples of arithmetic expressions such as addition, subtraction, multiplication, and division using Python."
   ]
  },
  {
   "cell_type": "code",
   "execution_count": 11,
   "metadata": {},
   "outputs": [
    {
     "name": "stdout",
     "output_type": "stream",
     "text": [
      "a * b   = 100\n",
      "a + b   = 20\n",
      "(3*4)+5 = 17\n"
     ]
    }
   ],
   "source": [
    "# This a simple arithmetic expression to mutiply then add integers\n",
    "a = 10\n",
    "b = 10\n",
    "\n",
    "print('a * b   =', a*b)\n",
    "print('a + b   =', a+b)\n",
    "print('(3*4)+5 =', (3*4)+5)"
   ]
  },
  {
   "cell_type": "code",
   "execution_count": 14,
   "metadata": {},
   "outputs": [
    {
     "name": "stdout",
     "output_type": "stream",
     "text": [
      "200 minutes is equal to 3.33 hours\n"
     ]
    }
   ],
   "source": [
    "# This will convert 200 minutes to hours by dividing by 60\n",
    "minutes = 200\n",
    "hours = minutes / 60\n",
    "\n",
    "print(\"200 minutes is equal to %.2f hours\" % hours)"
   ]
  },
  {
   "cell_type": "markdown",
   "metadata": {},
   "source": [
    "### Objectives\n",
    "\n",
    "- Understand and apply basic arithmetic operations.\n",
    "- Convert between different units, such as minutes to hours.\n",
    "- Explore essential data science tools and languages.\n",
    "- Practice using Jupyter Notebook for both markdown and code cells.\n",
    "- Learn how to document and structure a project in Jupyter Notebook."
   ]
  },
  {
   "cell_type": "markdown",
   "metadata": {},
   "source": [
    "## Author\n",
    "\n",
    "**Asadullah jan**"
   ]
  },
  {
   "cell_type": "code",
   "execution_count": null,
   "metadata": {},
   "outputs": [],
   "source": []
  }
 ],
 "metadata": {
  "kernelspec": {
   "display_name": "Python 3 (ipykernel)",
   "language": "python",
   "name": "python3"
  },
  "language_info": {
   "codemirror_mode": {
    "name": "ipython",
    "version": 3
   },
   "file_extension": ".py",
   "mimetype": "text/x-python",
   "name": "python",
   "nbconvert_exporter": "python",
   "pygments_lexer": "ipython3",
   "version": "3.12.8"
  }
 },
 "nbformat": 4,
 "nbformat_minor": 4
}
